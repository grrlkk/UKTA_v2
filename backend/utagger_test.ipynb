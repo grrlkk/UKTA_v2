{
 "cells": [
  {
   "cell_type": "code",
   "execution_count": 1,
   "metadata": {},
   "outputs": [
    {
     "name": "stderr",
     "output_type": "stream",
     "text": [
      "DOWNLOAD utg3demo_v2109b-bin.zip: 100%|██████████| 2.77M/2.77M [00:00<00:00, 4.55MiB/s]\n"
     ]
    },
    {
     "name": "stdout",
     "output_type": "stream",
     "text": [
      "Download  [ok]\n"
     ]
    },
    {
     "name": "stderr",
     "output_type": "stream",
     "text": [
      "Extracting: 100%|██████████| 7.82M/7.82M [00:00<00:00, 191MB/s]\n",
      "DOWNLOAD utg3demo_v2109b-data.zip: 100%|██████████| 2.36G/2.36G [03:34<00:00, 11.8MiB/s]\n"
     ]
    },
    {
     "name": "stdout",
     "output_type": "stream",
     "text": [
      "Download  [ok]\n"
     ]
    },
    {
     "name": "stderr",
     "output_type": "stream",
     "text": [
      "Extracting: 100%|██████████| 12.1G/12.1G [00:38<00:00, 315MB/s]\n",
      "DOWNLOAD utg4demo_v2403b-bin.zip: 100%|██████████| 2.62M/2.62M [00:00<00:00, 4.97MiB/s]\n"
     ]
    },
    {
     "name": "stdout",
     "output_type": "stream",
     "text": [
      "Download  [ok]\n"
     ]
    },
    {
     "name": "stderr",
     "output_type": "stream",
     "text": [
      "Extracting: 100%|██████████| 6.47M/6.47M [00:00<00:00, 167MB/s]\n",
      "DOWNLOAD utg4demo_v2403b-data.zip: 100%|██████████| 2.06G/2.06G [03:06<00:00, 11.8MiB/s]\n"
     ]
    },
    {
     "name": "stdout",
     "output_type": "stream",
     "text": [
      "Download  [ok]\n"
     ]
    },
    {
     "name": "stderr",
     "output_type": "stream",
     "text": [
      "Extracting: 100%|██████████| 4.62G/4.62G [00:21<00:00, 220MB/s]\n",
      "DOWNLOAD utg4demo_v2403b-bin.zip: 100%|██████████| 2.62M/2.62M [00:00<00:00, 10.6MiB/s]\n"
     ]
    },
    {
     "name": "stdout",
     "output_type": "stream",
     "text": [
      "Download  [ok]\n"
     ]
    },
    {
     "name": "stderr",
     "output_type": "stream",
     "text": [
      "Extracting: 100%|██████████| 6.47M/6.47M [00:00<00:00, 158MB/s]\n",
      "DOWNLOAD utg4hjdemo_v2403b-data.zip: 100%|██████████| 1.63G/1.63G [02:28<00:00, 11.8MiB/s]\n"
     ]
    },
    {
     "name": "stdout",
     "output_type": "stream",
     "text": [
      "Download  [ok]\n"
     ]
    },
    {
     "name": "stderr",
     "output_type": "stream",
     "text": [
      "Extracting: 100%|██████████| 3.49G/3.49G [00:16<00:00, 214MB/s]\n"
     ]
    },
    {
     "data": {
      "text/plain": [
       "True"
      ]
     },
     "execution_count": 1,
     "metadata": {},
     "output_type": "execute_result"
    }
   ],
   "source": [
    "import pyutagger.downloader as ud\n",
    "\n",
    "# 필요에 따라 아래 두 가지 중 필요한 것을 다운로드한다.\n",
    "# 기본적으로 윈도우에서는 c:\\utagger에 다운로드를 시도한다.\n",
    "# 다른 드라이브 또는 디렉토리에 설치하려면 추가 인자로 절대 경로를 추가하면 된다.\n",
    "# 그러면 지정한 경로 밑에서 다운로드와 압축 해제가 진행된다.\n",
    "ud.install_utagger(\"utagger3\")  # 유태거 3\n",
    "ud.install_utagger(\"utagger4\")  # 유태거 4\n",
    "ud.install_utagger(\"utagger4hj\")  # 유태거 4 훈민정음(옛한글 전용)"
   ]
  },
  {
   "cell_type": "code",
   "execution_count": 4,
   "metadata": {},
   "outputs": [
    {
     "name": "stdout",
     "output_type": "stream",
     "text": [
      "LIB:  /home/ttytu/utagger/v4_2403b/bin/UTagger4.so\n",
      "BIN:  /home/ttytu/utagger/v4_2403b/bin\n",
      "corpus_list.txt파일을 열지 못했습니다.\n",
      "ManiFL load : ../MFL_data/MFL_data_UMA4/weight_t2c_spacing_cus.udb\n",
      "ManiFL load : ../MFL_data/MFL_data_UMA4/weight_t2c_spacing.udb\n",
      "cannot open file ../MFL_data/MFL_data_UMA4/cus cor.tag\n",
      "you should check files in corpus_list again\n",
      "ManiFL load : ../MFL_data/MFL_data_UMA4/weight_t2c_cus.udb\n",
      "UTagger 4\n",
      "원문:  대통령배 생존 대회에서 배가 침몰하는 중에도 배씨는 배를 먹으면서 배를 채우고 배영하며 버티는데 나보다 두 배는 더 용감했다.\n",
      "ManiFL load : ../MFL_data/MFL_data_UMA4/weight_t2c.udb\n",
      "형태소 분석:  대통령/NNG+배__05/NNG 생존/NNG 대회__02/NNG+에서/JKB 배__02/NNG+가/JKS 침몰하/VV+는/ETM 중__04/NNB+에/JKB+도/JX 배__10/NNP+씨__07/NNB+는/JX 배__01/NNG+를/JKO 먹__02/VV+으면서/EC 배__01/NNG+를/JKO 채우__03/VV+고/EC 배영하/NNP+며/EC 버티/VV+는데/EF 나__03/NP+보다/JKB 두__01/MMN 배__09/NNG+는/JX 더__01/MAG 용감하/VA+였/EP+다/EF+./SF\n",
      "형태소 각각 분리:  ['대통령', '배', '생존', '대회', '에서', '배', '가', '침몰하', '는', '중', '에', '도', '배', '씨', '는', '배', '를', '먹', '으면서', '배', '를', '채우', '고', '배영하', '며', '버티', '는데', '나', '보다', '두', '배', '는', '더', '용감하', '였', '다', '.']\n",
      "명사만:  ['대통령', '배', '생존', '대회', '배', '중', '배', '씨', '배', '배', '배영하', '배']\n",
      "형태소 품사 각각 [('대통령', 'NNG'), ('배__05', 'NNG'), ('생존', 'NNG'), ('대회__02', 'NNG'), ('에서', 'JKB'), ('배__02', 'NNG'), ('가', 'JKS'), ('침몰하', 'VV'), ('는', 'ETM'), ('중__04', 'NNB'), ('에', 'JKB'), ('도', 'JX'), ('배__10', 'NNP'), ('씨__07', 'NNB'), ('는', 'JX'), ('배__01', 'NNG'), ('를', 'JKO'), ('먹__02', 'VV'), ('으면서', 'EC'), ('배__01', 'NNG'), ('를', 'JKO'), ('채우__03', 'VV'), ('고', 'EC'), ('배영하', 'NNP'), ('며', 'EC'), ('버티', 'VV'), ('는데', 'EF'), ('나__03', 'NP'), ('보다', 'JKB'), ('두__01', 'MMN'), ('배__09', 'NNG'), ('는', 'JX'), ('더__01', 'MAG'), ('용감하', 'VA'), ('였', 'EP'), ('다', 'EF'), ('.', 'SF')]\n",
      "Ok.\n"
     ]
    }
   ],
   "source": [
    "import pyutagger.utagger as ut\n",
    "import sys\n",
    "\n",
    "\n",
    "def test():\n",
    "    utg4 = ut.utagger_loader(\"utagger4\")\n",
    "    if not utg4:\n",
    "        print(\"로드 실패\")\n",
    "        print(\"failed to load\")\n",
    "        sys.exit(1)\n",
    "\n",
    "    utg4.load()\n",
    "    print(utg4.tagger_name())\n",
    "    s = \"대통령배 생존 대회에서 배가 침몰하는 중에도 배씨는 배를 먹으면서 배를 채우고 배영하며 버티는데 나보다 두 배는 더 용감했다.\"\n",
    "    print(\"원문: \", s)\n",
    "    tagged = utg4.analyse(s)\n",
    "    print(\"형태소 분석: \", tagged)\n",
    "    morphs = utg4.morphs(s)\n",
    "    print(\"형태소 각각 분리: \", morphs)\n",
    "    nouns = utg4.nouns(s)\n",
    "    print(\"명사만: \", nouns)\n",
    "    pos = utg4.pos(s)\n",
    "    print(\"형태소 품사 각각\", pos)\n",
    "\n",
    "    utg4.release()\n",
    "    print(\"Ok.\")\n",
    "    \n",
    "test()"
   ]
  }
 ],
 "metadata": {
  "kernelspec": {
   "display_name": "ukta",
   "language": "python",
   "name": "python3"
  },
  "language_info": {
   "codemirror_mode": {
    "name": "ipython",
    "version": 3
   },
   "file_extension": ".py",
   "mimetype": "text/x-python",
   "name": "python",
   "nbconvert_exporter": "python",
   "pygments_lexer": "ipython3",
   "version": "3.11.0"
  }
 },
 "nbformat": 4,
 "nbformat_minor": 2
}
